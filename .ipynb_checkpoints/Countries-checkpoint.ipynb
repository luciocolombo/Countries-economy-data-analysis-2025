{
 "cells": [
  {
   "cell_type": "code",
   "execution_count": 1,
   "id": "077a9159-a166-45d9-bb69-63b3502950bc",
   "metadata": {},
   "outputs": [],
   "source": [
    "import seaborn as sns\n",
    "import pandas as pd\n",
    "import numpy as np"
   ]
  },
  {
   "cell_type": "code",
   "execution_count": 2,
   "id": "f6574a0a-d9d2-4557-a227-3c61029d6ed9",
   "metadata": {},
   "outputs": [
    {
     "name": "stdout",
     "output_type": "stream",
     "text": [
      "Ruta del dataset: C:\\Users\\device\\.cache\\kagglehub\\datasets\\ahmadfirman\\world-economic-2025\\versions\\1\n"
     ]
    }
   ],
   "source": [
    "# Install dependencies as needed:\n",
    "# pip install kagglehub[pandas-datasets]\n",
    "import kagglehub\n",
    "\n",
    "# Descargar el dataset\n",
    "path = kagglehub.dataset_download(\"ahmadfirman/world-economic-2025\")\n",
    "\n",
    "print(\"Ruta del dataset:\", path)\n"
   ]
  },
  {
   "cell_type": "code",
   "execution_count": 3,
   "id": "29732023-b438-4295-90e1-c6347a820478",
   "metadata": {},
   "outputs": [
    {
     "ename": "FileNotFoundError",
     "evalue": "[Errno 2] No such file or directory: 'Downloads/world_economics.csv'",
     "output_type": "error",
     "traceback": [
      "\u001b[31m---------------------------------------------------------------------------\u001b[39m",
      "\u001b[31mFileNotFoundError\u001b[39m                         Traceback (most recent call last)",
      "\u001b[36mCell\u001b[39m\u001b[36m \u001b[39m\u001b[32mIn[3]\u001b[39m\u001b[32m, line 1\u001b[39m\n\u001b[32m----> \u001b[39m\u001b[32m1\u001b[39m df = \u001b[43mpd\u001b[49m\u001b[43m.\u001b[49m\u001b[43mread_csv\u001b[49m\u001b[43m(\u001b[49m\u001b[33;43m'\u001b[39;49m\u001b[33;43mDownloads/world_economics.csv\u001b[39;49m\u001b[33;43m'\u001b[39;49m\u001b[43m)\u001b[49m\n\u001b[32m      2\u001b[39m df\n",
      "\u001b[36mFile \u001b[39m\u001b[32m~\\AppData\\Local\\Programs\\Python\\Python313\\Lib\\site-packages\\pandas\\io\\parsers\\readers.py:1026\u001b[39m, in \u001b[36mread_csv\u001b[39m\u001b[34m(filepath_or_buffer, sep, delimiter, header, names, index_col, usecols, dtype, engine, converters, true_values, false_values, skipinitialspace, skiprows, skipfooter, nrows, na_values, keep_default_na, na_filter, verbose, skip_blank_lines, parse_dates, infer_datetime_format, keep_date_col, date_parser, date_format, dayfirst, cache_dates, iterator, chunksize, compression, thousands, decimal, lineterminator, quotechar, quoting, doublequote, escapechar, comment, encoding, encoding_errors, dialect, on_bad_lines, delim_whitespace, low_memory, memory_map, float_precision, storage_options, dtype_backend)\u001b[39m\n\u001b[32m   1013\u001b[39m kwds_defaults = _refine_defaults_read(\n\u001b[32m   1014\u001b[39m     dialect,\n\u001b[32m   1015\u001b[39m     delimiter,\n\u001b[32m   (...)\u001b[39m\u001b[32m   1022\u001b[39m     dtype_backend=dtype_backend,\n\u001b[32m   1023\u001b[39m )\n\u001b[32m   1024\u001b[39m kwds.update(kwds_defaults)\n\u001b[32m-> \u001b[39m\u001b[32m1026\u001b[39m \u001b[38;5;28;01mreturn\u001b[39;00m \u001b[43m_read\u001b[49m\u001b[43m(\u001b[49m\u001b[43mfilepath_or_buffer\u001b[49m\u001b[43m,\u001b[49m\u001b[43m \u001b[49m\u001b[43mkwds\u001b[49m\u001b[43m)\u001b[49m\n",
      "\u001b[36mFile \u001b[39m\u001b[32m~\\AppData\\Local\\Programs\\Python\\Python313\\Lib\\site-packages\\pandas\\io\\parsers\\readers.py:620\u001b[39m, in \u001b[36m_read\u001b[39m\u001b[34m(filepath_or_buffer, kwds)\u001b[39m\n\u001b[32m    617\u001b[39m _validate_names(kwds.get(\u001b[33m\"\u001b[39m\u001b[33mnames\u001b[39m\u001b[33m\"\u001b[39m, \u001b[38;5;28;01mNone\u001b[39;00m))\n\u001b[32m    619\u001b[39m \u001b[38;5;66;03m# Create the parser.\u001b[39;00m\n\u001b[32m--> \u001b[39m\u001b[32m620\u001b[39m parser = \u001b[43mTextFileReader\u001b[49m\u001b[43m(\u001b[49m\u001b[43mfilepath_or_buffer\u001b[49m\u001b[43m,\u001b[49m\u001b[43m \u001b[49m\u001b[43m*\u001b[49m\u001b[43m*\u001b[49m\u001b[43mkwds\u001b[49m\u001b[43m)\u001b[49m\n\u001b[32m    622\u001b[39m \u001b[38;5;28;01mif\u001b[39;00m chunksize \u001b[38;5;129;01mor\u001b[39;00m iterator:\n\u001b[32m    623\u001b[39m     \u001b[38;5;28;01mreturn\u001b[39;00m parser\n",
      "\u001b[36mFile \u001b[39m\u001b[32m~\\AppData\\Local\\Programs\\Python\\Python313\\Lib\\site-packages\\pandas\\io\\parsers\\readers.py:1620\u001b[39m, in \u001b[36mTextFileReader.__init__\u001b[39m\u001b[34m(self, f, engine, **kwds)\u001b[39m\n\u001b[32m   1617\u001b[39m     \u001b[38;5;28mself\u001b[39m.options[\u001b[33m\"\u001b[39m\u001b[33mhas_index_names\u001b[39m\u001b[33m\"\u001b[39m] = kwds[\u001b[33m\"\u001b[39m\u001b[33mhas_index_names\u001b[39m\u001b[33m\"\u001b[39m]\n\u001b[32m   1619\u001b[39m \u001b[38;5;28mself\u001b[39m.handles: IOHandles | \u001b[38;5;28;01mNone\u001b[39;00m = \u001b[38;5;28;01mNone\u001b[39;00m\n\u001b[32m-> \u001b[39m\u001b[32m1620\u001b[39m \u001b[38;5;28mself\u001b[39m._engine = \u001b[38;5;28;43mself\u001b[39;49m\u001b[43m.\u001b[49m\u001b[43m_make_engine\u001b[49m\u001b[43m(\u001b[49m\u001b[43mf\u001b[49m\u001b[43m,\u001b[49m\u001b[43m \u001b[49m\u001b[38;5;28;43mself\u001b[39;49m\u001b[43m.\u001b[49m\u001b[43mengine\u001b[49m\u001b[43m)\u001b[49m\n",
      "\u001b[36mFile \u001b[39m\u001b[32m~\\AppData\\Local\\Programs\\Python\\Python313\\Lib\\site-packages\\pandas\\io\\parsers\\readers.py:1880\u001b[39m, in \u001b[36mTextFileReader._make_engine\u001b[39m\u001b[34m(self, f, engine)\u001b[39m\n\u001b[32m   1878\u001b[39m     \u001b[38;5;28;01mif\u001b[39;00m \u001b[33m\"\u001b[39m\u001b[33mb\u001b[39m\u001b[33m\"\u001b[39m \u001b[38;5;129;01mnot\u001b[39;00m \u001b[38;5;129;01min\u001b[39;00m mode:\n\u001b[32m   1879\u001b[39m         mode += \u001b[33m\"\u001b[39m\u001b[33mb\u001b[39m\u001b[33m\"\u001b[39m\n\u001b[32m-> \u001b[39m\u001b[32m1880\u001b[39m \u001b[38;5;28mself\u001b[39m.handles = \u001b[43mget_handle\u001b[49m\u001b[43m(\u001b[49m\n\u001b[32m   1881\u001b[39m \u001b[43m    \u001b[49m\u001b[43mf\u001b[49m\u001b[43m,\u001b[49m\n\u001b[32m   1882\u001b[39m \u001b[43m    \u001b[49m\u001b[43mmode\u001b[49m\u001b[43m,\u001b[49m\n\u001b[32m   1883\u001b[39m \u001b[43m    \u001b[49m\u001b[43mencoding\u001b[49m\u001b[43m=\u001b[49m\u001b[38;5;28;43mself\u001b[39;49m\u001b[43m.\u001b[49m\u001b[43moptions\u001b[49m\u001b[43m.\u001b[49m\u001b[43mget\u001b[49m\u001b[43m(\u001b[49m\u001b[33;43m\"\u001b[39;49m\u001b[33;43mencoding\u001b[39;49m\u001b[33;43m\"\u001b[39;49m\u001b[43m,\u001b[49m\u001b[43m \u001b[49m\u001b[38;5;28;43;01mNone\u001b[39;49;00m\u001b[43m)\u001b[49m\u001b[43m,\u001b[49m\n\u001b[32m   1884\u001b[39m \u001b[43m    \u001b[49m\u001b[43mcompression\u001b[49m\u001b[43m=\u001b[49m\u001b[38;5;28;43mself\u001b[39;49m\u001b[43m.\u001b[49m\u001b[43moptions\u001b[49m\u001b[43m.\u001b[49m\u001b[43mget\u001b[49m\u001b[43m(\u001b[49m\u001b[33;43m\"\u001b[39;49m\u001b[33;43mcompression\u001b[39;49m\u001b[33;43m\"\u001b[39;49m\u001b[43m,\u001b[49m\u001b[43m \u001b[49m\u001b[38;5;28;43;01mNone\u001b[39;49;00m\u001b[43m)\u001b[49m\u001b[43m,\u001b[49m\n\u001b[32m   1885\u001b[39m \u001b[43m    \u001b[49m\u001b[43mmemory_map\u001b[49m\u001b[43m=\u001b[49m\u001b[38;5;28;43mself\u001b[39;49m\u001b[43m.\u001b[49m\u001b[43moptions\u001b[49m\u001b[43m.\u001b[49m\u001b[43mget\u001b[49m\u001b[43m(\u001b[49m\u001b[33;43m\"\u001b[39;49m\u001b[33;43mmemory_map\u001b[39;49m\u001b[33;43m\"\u001b[39;49m\u001b[43m,\u001b[49m\u001b[43m \u001b[49m\u001b[38;5;28;43;01mFalse\u001b[39;49;00m\u001b[43m)\u001b[49m\u001b[43m,\u001b[49m\n\u001b[32m   1886\u001b[39m \u001b[43m    \u001b[49m\u001b[43mis_text\u001b[49m\u001b[43m=\u001b[49m\u001b[43mis_text\u001b[49m\u001b[43m,\u001b[49m\n\u001b[32m   1887\u001b[39m \u001b[43m    \u001b[49m\u001b[43merrors\u001b[49m\u001b[43m=\u001b[49m\u001b[38;5;28;43mself\u001b[39;49m\u001b[43m.\u001b[49m\u001b[43moptions\u001b[49m\u001b[43m.\u001b[49m\u001b[43mget\u001b[49m\u001b[43m(\u001b[49m\u001b[33;43m\"\u001b[39;49m\u001b[33;43mencoding_errors\u001b[39;49m\u001b[33;43m\"\u001b[39;49m\u001b[43m,\u001b[49m\u001b[43m \u001b[49m\u001b[33;43m\"\u001b[39;49m\u001b[33;43mstrict\u001b[39;49m\u001b[33;43m\"\u001b[39;49m\u001b[43m)\u001b[49m\u001b[43m,\u001b[49m\n\u001b[32m   1888\u001b[39m \u001b[43m    \u001b[49m\u001b[43mstorage_options\u001b[49m\u001b[43m=\u001b[49m\u001b[38;5;28;43mself\u001b[39;49m\u001b[43m.\u001b[49m\u001b[43moptions\u001b[49m\u001b[43m.\u001b[49m\u001b[43mget\u001b[49m\u001b[43m(\u001b[49m\u001b[33;43m\"\u001b[39;49m\u001b[33;43mstorage_options\u001b[39;49m\u001b[33;43m\"\u001b[39;49m\u001b[43m,\u001b[49m\u001b[43m \u001b[49m\u001b[38;5;28;43;01mNone\u001b[39;49;00m\u001b[43m)\u001b[49m\u001b[43m,\u001b[49m\n\u001b[32m   1889\u001b[39m \u001b[43m\u001b[49m\u001b[43m)\u001b[49m\n\u001b[32m   1890\u001b[39m \u001b[38;5;28;01massert\u001b[39;00m \u001b[38;5;28mself\u001b[39m.handles \u001b[38;5;129;01mis\u001b[39;00m \u001b[38;5;129;01mnot\u001b[39;00m \u001b[38;5;28;01mNone\u001b[39;00m\n\u001b[32m   1891\u001b[39m f = \u001b[38;5;28mself\u001b[39m.handles.handle\n",
      "\u001b[36mFile \u001b[39m\u001b[32m~\\AppData\\Local\\Programs\\Python\\Python313\\Lib\\site-packages\\pandas\\io\\common.py:873\u001b[39m, in \u001b[36mget_handle\u001b[39m\u001b[34m(path_or_buf, mode, encoding, compression, memory_map, is_text, errors, storage_options)\u001b[39m\n\u001b[32m    868\u001b[39m \u001b[38;5;28;01melif\u001b[39;00m \u001b[38;5;28misinstance\u001b[39m(handle, \u001b[38;5;28mstr\u001b[39m):\n\u001b[32m    869\u001b[39m     \u001b[38;5;66;03m# Check whether the filename is to be opened in binary mode.\u001b[39;00m\n\u001b[32m    870\u001b[39m     \u001b[38;5;66;03m# Binary mode does not support 'encoding' and 'newline'.\u001b[39;00m\n\u001b[32m    871\u001b[39m     \u001b[38;5;28;01mif\u001b[39;00m ioargs.encoding \u001b[38;5;129;01mand\u001b[39;00m \u001b[33m\"\u001b[39m\u001b[33mb\u001b[39m\u001b[33m\"\u001b[39m \u001b[38;5;129;01mnot\u001b[39;00m \u001b[38;5;129;01min\u001b[39;00m ioargs.mode:\n\u001b[32m    872\u001b[39m         \u001b[38;5;66;03m# Encoding\u001b[39;00m\n\u001b[32m--> \u001b[39m\u001b[32m873\u001b[39m         handle = \u001b[38;5;28;43mopen\u001b[39;49m\u001b[43m(\u001b[49m\n\u001b[32m    874\u001b[39m \u001b[43m            \u001b[49m\u001b[43mhandle\u001b[49m\u001b[43m,\u001b[49m\n\u001b[32m    875\u001b[39m \u001b[43m            \u001b[49m\u001b[43mioargs\u001b[49m\u001b[43m.\u001b[49m\u001b[43mmode\u001b[49m\u001b[43m,\u001b[49m\n\u001b[32m    876\u001b[39m \u001b[43m            \u001b[49m\u001b[43mencoding\u001b[49m\u001b[43m=\u001b[49m\u001b[43mioargs\u001b[49m\u001b[43m.\u001b[49m\u001b[43mencoding\u001b[49m\u001b[43m,\u001b[49m\n\u001b[32m    877\u001b[39m \u001b[43m            \u001b[49m\u001b[43merrors\u001b[49m\u001b[43m=\u001b[49m\u001b[43merrors\u001b[49m\u001b[43m,\u001b[49m\n\u001b[32m    878\u001b[39m \u001b[43m            \u001b[49m\u001b[43mnewline\u001b[49m\u001b[43m=\u001b[49m\u001b[33;43m\"\u001b[39;49m\u001b[33;43m\"\u001b[39;49m\u001b[43m,\u001b[49m\n\u001b[32m    879\u001b[39m \u001b[43m        \u001b[49m\u001b[43m)\u001b[49m\n\u001b[32m    880\u001b[39m     \u001b[38;5;28;01melse\u001b[39;00m:\n\u001b[32m    881\u001b[39m         \u001b[38;5;66;03m# Binary mode\u001b[39;00m\n\u001b[32m    882\u001b[39m         handle = \u001b[38;5;28mopen\u001b[39m(handle, ioargs.mode)\n",
      "\u001b[31mFileNotFoundError\u001b[39m: [Errno 2] No such file or directory: 'Downloads/world_economics.csv'"
     ]
    }
   ],
   "source": [
    "\n",
    "df = pd.read_csv('Downloads/world_economics.csv')\n",
    "df"
   ]
  },
  {
   "cell_type": "code",
   "execution_count": null,
   "id": "b065d965-b6c2-4f15-abda-654270864109",
   "metadata": {},
   "outputs": [],
   "source": [
    "df.info()"
   ]
  },
  {
   "cell_type": "code",
   "execution_count": null,
   "id": "fcfaba31-61d8-4fe0-b6df-b29b38290ba5",
   "metadata": {},
   "outputs": [],
   "source": [
    "#% of nulls\n",
    "round(df.isna().sum()/len(df)*100,0)"
   ]
  },
  {
   "cell_type": "code",
   "execution_count": null,
   "id": "dee843c0-6f78-4da5-82e0-fe4b12170e9f",
   "metadata": {},
   "outputs": [],
   "source": [
    "df[['name','GDP']].sort_values('GDP')"
   ]
  },
  {
   "cell_type": "code",
   "execution_count": null,
   "id": "f681a9d4-7b65-4f15-8ba1-9a94c8f617db",
   "metadata": {},
   "outputs": [],
   "source": [
    "#sns.barplot(data=df.sort_values('GDP'), x='name', y='GDP')\n",
    "import matplotlib.pyplot as plt\n",
    "df1 = pd.concat([\n",
    "    \n",
    "    df.nlargest(10,'GDP'),\n",
    "    df.nsmallest(10,'GDP')\n",
    "])\n",
    "\n",
    "plt.figure(figsize=[15,5]);\n",
    "plt.xticks(rotation=45);\n",
    "sns.barplot(data=df1,x='name',y='GDP')\n"
   ]
  },
  {
   "cell_type": "code",
   "execution_count": null,
   "id": "1f27801e-0171-471e-8beb-2014b69ff9e7",
   "metadata": {},
   "outputs": [],
   "source": [
    "#Pupulation vs region\n",
    "sns.barplot(data=df, x='region', y='Population')"
   ]
  },
  {
   "cell_type": "code",
   "execution_count": null,
   "id": "263feadf-3561-470f-be57-812e6ec6b035",
   "metadata": {},
   "outputs": [],
   "source": [
    "sns.boxplot(data=df,x='region',y='GDP', showfliers=False)"
   ]
  },
  {
   "cell_type": "code",
   "execution_count": null,
   "id": "323e6bca-27ed-4c84-85df-3169bdd464e4",
   "metadata": {},
   "outputs": [],
   "source": [
    "#average population by region\n",
    "df[['region','Population']].groupby('region').mean().sort_values('Population')"
   ]
  },
  {
   "cell_type": "code",
   "execution_count": null,
   "id": "ecdf059f-1d8e-4d2a-8bd9-eaa9b6130bf0",
   "metadata": {},
   "outputs": [],
   "source": [
    "#How many countries don’t have listed borders?\n",
    "df[df['borders'].isnull()]['name']"
   ]
  },
  {
   "cell_type": "code",
   "execution_count": null,
   "id": "71601093-e334-4282-9ffa-24521daedc0e",
   "metadata": {},
   "outputs": [],
   "source": [
    "#Which currencies are used by more than one country?\n",
    "list_currencies_amount = df.groupby('currency').size()\n",
    "list_currencies_amount[list_currencies_amount>1]\n"
   ]
  },
  {
   "cell_type": "code",
   "execution_count": null,
   "id": "990acb2b-7046-4fed-a6bf-214d879b4f60",
   "metadata": {},
   "outputs": [],
   "source": [
    "#Is GDP growth higher on average in Asia vs Europe?\n",
    "\n",
    "df.groupby('region')['GDP'].mean()"
   ]
  },
  {
   "cell_type": "code",
   "execution_count": null,
   "id": "3cbb7364-e266-4537-a3ac-43b8a9b6cbc5",
   "metadata": {},
   "outputs": [],
   "source": []
  },
  {
   "cell_type": "code",
   "execution_count": null,
   "id": "719a33ff-ad6e-4a18-b62d-c862874d32c5",
   "metadata": {},
   "outputs": [],
   "source": [
    "#Do landlocked countries (borders present, no coastline) have systematically different GDP per capita than coastal countries?\n",
    "sns.boxplot(x=df['borders'].notna(), y=df['GDP'], showfliers=False)\n",
    "print(df['borders'].notna().sum(), 'with borders', df['borders'].isna().sum(), 'without borders')"
   ]
  },
  {
   "cell_type": "code",
   "execution_count": null,
   "id": "374acb53-0e10-47d6-ab1b-a7da0eb452b8",
   "metadata": {},
   "outputs": [],
   "source": [
    "#How does inflation rate differ between high-income vs low-income regions?\n",
    "sns.lineplot(data=df, x='GDP', y='Inflation Rate')"
   ]
  },
  {
   "cell_type": "code",
   "execution_count": null,
   "id": "6898e83f-89a5-425d-a4fb-1c470663bfb8",
   "metadata": {},
   "outputs": [],
   "source": [
    "#Which region has the highest average debt-to-GDP ratio?\n",
    "sns.barplot(data=df, x='region', y='Debt/GDP')"
   ]
  },
  {
   "cell_type": "code",
   "execution_count": null,
   "id": "79032d88-9417-4cb6-9668-64875f93c6d3",
   "metadata": {},
   "outputs": [],
   "source": [
    "#Are larger countries (by area) also more populous on average?\n",
    "df[df['name']=='Tunisia']"
   ]
  },
  {
   "cell_type": "code",
   "execution_count": null,
   "id": "90ff33f1-c1f3-4d40-98b7-c409f16257b5",
   "metadata": {},
   "outputs": [],
   "source": [
    "#Are larger countries (by area) also more populous on average?\n",
    "#sns.scatterplot(data=df[df['Population']<1000], x='area',y='Population') #chopped out outliers\n",
    "\n",
    "df['area_bins'] = pd.cut(df['area'], bins=8, labels=[x for x in range(0,8)])\n",
    "sns.boxplot(data=df, x='area_bins', y='Population', showfliers=False)\n"
   ]
  },
  {
   "cell_type": "code",
   "execution_count": null,
   "id": "9d71eef9-8935-4f6c-aa77-0d31e3d160ba",
   "metadata": {},
   "outputs": [],
   "source": [
    "#Showing different view for more clarity\n",
    "sns.lineplot(data=df, x='area', y='Population')\n",
    "import matplotlib.pyplot as plt\n",
    "plt.xscale(\"log\"); plt.yscale(\"log\")"
   ]
  },
  {
   "cell_type": "code",
   "execution_count": null,
   "id": "b34fcc10-9936-48c0-81ac-6302c9fb322a",
   "metadata": {},
   "outputs": [],
   "source": []
  },
  {
   "cell_type": "code",
   "execution_count": null,
   "id": "28f8d156-9b7c-4cbf-9c3f-74f07de4dbbc",
   "metadata": {},
   "outputs": [],
   "source": [
    "#What is the correlation between GDP per capita and jobless rate?\n",
    "sns.lineplot(data=df,x='GDP',y='Jobless Rate', marker='o')"
   ]
  },
  {
   "cell_type": "code",
   "execution_count": null,
   "id": "1a961749-26ca-456f-a08b-2e0542e332d2",
   "metadata": {},
   "outputs": [],
   "source": [
    "#let's zoom in in 5000+ GDP and under 5000 GDP\n",
    "sns.lineplot(data=df[df['GDP']<5000],x='GDP',y='Jobless Rate')\n",
    "plt.xscale('log')"
   ]
  },
  {
   "cell_type": "code",
   "execution_count": null,
   "id": "dd048a27-2a7a-4c39-b4e2-f11972fe48ca",
   "metadata": {},
   "outputs": [],
   "source": [
    "#Log scale only increases confusion so le'ts stick with linear by steps\n",
    "sns.lineplot(data=df[df['GDP']<5000],x='GDP',y='Jobless Rate', marker='o')\n"
   ]
  },
  {
   "cell_type": "code",
   "execution_count": null,
   "id": "7422b277-bc88-4a42-9bea-aec6b29d4ae2",
   "metadata": {},
   "outputs": [],
   "source": [
    "df['GDP_bins'] = pd.qcut(df['GDP'], q=3)\n",
    "sns.boxplot(data=df, x='GDP_bins', y='Jobless Rate')\n",
    "print(df['GDP_bins'].value_counts().sort_index())\n",
    "plt.xticks(rotation=45)"
   ]
  },
  {
   "cell_type": "code",
   "execution_count": null,
   "id": "a3e586b8-f440-41bb-9ec4-226249045ee7",
   "metadata": {},
   "outputs": [],
   "source": [
    "#Does higher interest rate correlate with lower inflation?\n",
    "\n",
    "sns.lineplot(data=df,x='Interest Rate', y='Inflation Rate')\n"
   ]
  },
  {
   "cell_type": "code",
   "execution_count": null,
   "id": "af8fde43-33c0-4357-a38e-8008eda017cd",
   "metadata": {},
   "outputs": [],
   "source": [
    "df['Interest_Rate_bins'] = pd.qcut(df['Interest Rate'], q=5)\n",
    "sns.boxplot(data=df, x='Interest_Rate_bins', y='Inflation Rate', showfliers=False)\n",
    "plt.xticks(rotation=45)\n",
    "print(df['Interest_Rate_bins'].value_counts())"
   ]
  },
  {
   "cell_type": "code",
   "execution_count": null,
   "id": "3d31c865-8e35-4ae9-8d54-665744f1edc9",
   "metadata": {},
   "outputs": [],
   "source": [
    "#How does GDP growth relate to current account balance?\n",
    "plt.figure(figsize=[10,5])\n",
    "sns.barplot(data=df,x='GDP Growth',y='Current Account')\n",
    "plt.xticks(rotation=45);\n"
   ]
  },
  {
   "cell_type": "code",
   "execution_count": null,
   "id": "869fb5d3-a365-499f-84e5-e91abd6c5af4",
   "metadata": {},
   "outputs": [],
   "source": [
    "plt.figure(figsize=[10,5])\n",
    "sns.boxplot(data=df,x='GDP Growth',y='Current Account')\n",
    "plt.xticks(rotation=45);"
   ]
  },
  {
   "cell_type": "code",
   "execution_count": null,
   "id": "13208766-f830-40e0-9dd8-8193df39e846",
   "metadata": {},
   "outputs": [],
   "source": [
    "plt.figure(figsize=[10,5])\n",
    "sns.scatterplot(data=df,x='GDP Growth',y='Current Account')\n",
    "plt.xticks(rotation=45);"
   ]
  },
  {
   "cell_type": "code",
   "execution_count": null,
   "id": "014d08bc-a721-4642-805f-95d8c165727d",
   "metadata": {},
   "outputs": [],
   "source": [
    "df['GDP_Growth_bins'] = pd.qcut(df['GDP Growth'],q=4)\n",
    "plt.figure(figsize=[10,5])\n",
    "sns.boxplot(data=df,x='GDP_Growth_bins',y='Current Account')\n",
    "plt.xticks(rotation=45);"
   ]
  },
  {
   "cell_type": "code",
   "execution_count": null,
   "id": "a1b542cb-c50a-46fc-bf59-1f25adb933bd",
   "metadata": {},
   "outputs": [],
   "source": [
    "#Do countries with higher population tend to have higher GDP growth?\n",
    "ds = df[df['Population']<1200]\n",
    "sns.scatterplot(data=ds,x='Population',y='GDP Growth')"
   ]
  },
  {
   "cell_type": "code",
   "execution_count": null,
   "id": "6cf02a49-fc86-4801-81a5-e3163956f91c",
   "metadata": {},
   "outputs": [],
   "source": [
    "df['Population_bins'] = pd.qcut(df['Population'],q=8)\n",
    "sns.boxplot(data=df,x='Population_bins',y='GDP Growth', showfliers=False)\n",
    "plt.xticks(rotation=45);\n"
   ]
  },
  {
   "cell_type": "code",
   "execution_count": null,
   "id": "f25824f1-cda8-4446-b637-05ed7bbef2c3",
   "metadata": {},
   "outputs": [],
   "source": [
    "#Cluster countries by GDP, inflation, and jobless rate — what groups emerge?\n",
    "sns.scatterplot(data=df[df['GDP']<6000],x='GDP',y='Inflation Rate', hue='Jobless Rate')"
   ]
  },
  {
   "cell_type": "code",
   "execution_count": null,
   "id": "a05e0666-f82b-4eb1-932b-1c363b96fc23",
   "metadata": {},
   "outputs": [],
   "source": [
    "#Identify outliers: countries with unusually high debt/GDP compared to their peers.\n",
    "df[['Debt/GDP','name']].sort_values('Debt/GDP', ascending=False).head()\n"
   ]
  },
  {
   "cell_type": "code",
   "execution_count": null,
   "id": "91675c5c-b0b8-4b13-8893-e54388d0c307",
   "metadata": {},
   "outputs": [],
   "source": [
    "sns.scatterplot(data=df[df['Debt/GDP']>164],y='Debt/GDP',x='name')"
   ]
  },
  {
   "cell_type": "code",
   "execution_count": null,
   "id": "61bfca34-7e6c-4a77-88b6-be24317609eb",
   "metadata": {},
   "outputs": [],
   "source": [
    "#Which countries have both high inflation and high unemployment\n"
   ]
  },
  {
   "cell_type": "code",
   "execution_count": null,
   "id": "2f6da7c9-235b-4e29-b71f-7e102d7cc170",
   "metadata": {},
   "outputs": [],
   "source": [
    "from sklearn.linear_model import LinearRegression"
   ]
  },
  {
   "cell_type": "code",
   "execution_count": null,
   "id": "13bf28f4-cee9-4be4-ba6f-5cc84003c36e",
   "metadata": {},
   "outputs": [],
   "source": [
    "#¿La deuda afecta el crecimiento?\n",
    "sns.scatterplot(x=df['Debt/GDP'],y=df['GDP Growth'])\n",
    "\n",
    "plt.xlabel('debt')"
   ]
  },
  {
   "cell_type": "code",
   "execution_count": null,
   "id": "97ac5304-9740-4bf1-8c5d-9d7989bd426e",
   "metadata": {},
   "outputs": [],
   "source": [
    "ds = df.dropna()\n",
    "Y = ds['GDP Growth']\n",
    "X = ds[['Debt/GDP']]\n",
    "model = LinearRegression().fit(X,Y)\n",
    "\n",
    "\n",
    "y = model.predict(X)\n",
    "\n",
    "sns.lineplot(x=X['Debt/GDP'],y=y)\n",
    "sns.scatterplot(x=ds['Debt/GDP'], y=ds['GDP Growth'], color=\"blue\")\n",
    "\n",
    "print(model.score(X,Y),\n",
    "model.coef_,\n",
    "model.intercept_)\n"
   ]
  },
  {
   "cell_type": "code",
   "execution_count": null,
   "id": "bd81d944-089d-48c9-b468-3e2cf09dd042",
   "metadata": {},
   "outputs": [],
   "source": [
    "#¿La inflación impacta en la tasa de interés?\n",
    "ds = df[df['Inflation Rate']<80].dropna()\n",
    "X = ds[['Inflation Rate']]\n",
    "Y = ds['Interest Rate']\n",
    "\n",
    "\n",
    "\n",
    "model2 = LinearRegression().fit(X,Y)\n",
    "y = model2.predict(X)\n",
    "sns.lineplot(x=X['Inflation Rate'],y=y)\n",
    "sns.scatterplot(x=ds['Inflation Rate'], y=Y)\n",
    "model2.score(X,Y)"
   ]
  },
  {
   "cell_type": "code",
   "execution_count": null,
   "id": "82efabaf-1c8b-4002-b635-c06622a13b39",
   "metadata": {},
   "outputs": [],
   "source": [
    "sns.pairplot(df)"
   ]
  },
  {
   "cell_type": "code",
   "execution_count": null,
   "id": "d847cb17-0df8-4bf4-a930-a56515d89efe",
   "metadata": {},
   "outputs": [],
   "source": [
    "#Demostrar que no hay relacion entre GDP y LATITUD\n",
    "ds = df[df['GDP']<10000] #filter out outliers \n",
    "X = ds[['GDP']].dropna()\n",
    "Y = ds['latitude'].dropna()\n",
    "model3 = LinearRegression().fit(X,Y)\n",
    "y = model3.predict(X)\n",
    "sns.lineplot(x=X['GDP'],y=y)\n",
    "sns.scatterplot(x=X['GDP'],y=Y)\n",
    "print('We know it is not well predicted by a linear function', model3.coef_, model3.score(X,Y))"
   ]
  },
  {
   "cell_type": "code",
   "execution_count": null,
   "id": "c66c9c28-1130-40f6-9394-344e3292afce",
   "metadata": {},
   "outputs": [],
   "source": [
    "\n",
    "#If you calculate GDP per capita (GDP / Population), which countries look strongest/weakest relative to raw GDP?\n",
    "df['GDP_capita'] = df['GDP'] / df['Population']\n",
    "df['Gdp_VS_GDPCapita_Ranking'] = 1/df['Population']\n",
    "df[['Gdp_VS_GDPCapita_Ranking','name', 'GDP', 'GDP_capita']].sort_values('Gdp_VS_GDPCapita_Ranking')"
   ]
  },
  {
   "cell_type": "code",
   "execution_count": null,
   "id": "6c368e11-6be7-4500-9a16-199d20e6ea19",
   "metadata": {},
   "outputs": [],
   "source": [
    "#Cluster countries by GDP, inflation, and jobless rate — what groups emerge?\n",
    "from sklearn.cluster import KMeans\n",
    "from sklearn.preprocessing import StandardScaler\n",
    "scaler = StandardScaler()\n",
    "km_model = KMeans(n_clusters=4)\n",
    "X = df[['GDP','Jobless Rate','Inflation Rate']].dropna()\n",
    "Xscaled = scaler.fit_transform(X)\n",
    "\n",
    "km_model = km_model.fit(Xscaled)"
   ]
  },
  {
   "cell_type": "code",
   "execution_count": null,
   "id": "e504b5e8-aff0-4ad9-9efa-bb15f6b5f163",
   "metadata": {},
   "outputs": [],
   "source": [
    "plt.figure(figsize=(15,7))\n",
    "sns.scatterplot(data=X, x='GDP', y='Jobless Rate', hue=km_model.labels_, palette=\"Set2\")\n"
   ]
  },
  {
   "cell_type": "code",
   "execution_count": null,
   "id": "95b1743e",
   "metadata": {},
   "outputs": [],
   "source": [
    "plt.figure(figsize=(15,7))\n",
    "sns.scatterplot(data=X, x='GDP', y='Inflation Rate', hue=km_model.labels_, palette=\"Set2\")\n"
   ]
  },
  {
   "cell_type": "code",
   "execution_count": null,
   "id": "810e21c2-c318-4a7f-b262-e5b453730bf5",
   "metadata": {},
   "outputs": [],
   "source": [
    "inertia = []\n",
    "kamount = []\n",
    "for k in range(1,10):\n",
    "    temp_kmeans = KMeans(n_clusters=k).fit(X)\n",
    "    inertia.append(temp_kmeans.inertia_)\n",
    "    kamount.append(k)\n",
    "\n",
    "sns.lineplot(x=kamount,y=inertia)\n",
    "plt.xlabel('k')\n",
    "plt.ylabel('inertia')"
   ]
  },
  {
   "cell_type": "code",
   "execution_count": null,
   "id": "b183295a-451e-43d7-9a39-d06140499593",
   "metadata": {},
   "outputs": [],
   "source": [
    "df1 = df[['GDP','Jobless Rate','Inflation Rate', 'name']].dropna()\n",
    "df1['cluster'] = km_model.labels_\n",
    "#df1[df1['cluster']==0]\n",
    "df1['cluster'].value_counts()\n",
    "#We see most countries in cluster 0. Then there are 3 rare categories with exceptions\n"
   ]
  },
  {
   "cell_type": "code",
   "execution_count": null,
   "id": "9359e818-70d3-4fb8-92c9-cc1beadf2b5e",
   "metadata": {},
   "outputs": [],
   "source": [
    "#Most rare category, only two instances => The two biggest economies GDP\n",
    "df1[df1['cluster']==2]"
   ]
  },
  {
   "cell_type": "code",
   "execution_count": null,
   "id": "40ad6b86-b0fc-4742-9bdc-4d18305e12e9",
   "metadata": {},
   "outputs": [],
   "source": [
    "#Second rares, 4 instances, => Extreme inflationary countries\n",
    "df1[df1['cluster']==1]"
   ]
  },
  {
   "cell_type": "code",
   "execution_count": null,
   "id": "fd8789d6-c8cd-4c6e-8c9f-96ac196b2dd1",
   "metadata": {},
   "outputs": [],
   "source": [
    "#Rare category, 27 instances => Low gdp countries, developing \n",
    "df1[df1['cluster']==3]"
   ]
  },
  {
   "cell_type": "code",
   "execution_count": null,
   "id": "cb6f9ba7-4c5e-4f13-8233-7e614b48e97d",
   "metadata": {},
   "outputs": [],
   "source": [
    "#Most countries\n",
    "df1[df1['cluster']==0]"
   ]
  },
  {
   "cell_type": "code",
   "execution_count": null,
   "id": "af21fcdb-fdfe-4a27-8443-716fbb7a1e8c",
   "metadata": {},
   "outputs": [],
   "source": [
    "import plotly.express as px\n",
    "import plotly.io as pio\n",
    "\n",
    "# aseguramos que renderice en el navegador (lo más estable)\n",
    "#pio.renderers.default = \"browser\"\n",
    "\n",
    "fig = px.scatter_3d(\n",
    "    df1,\n",
    "    x='GDP',\n",
    "    y='Inflation Rate',\n",
    "    z='Jobless Rate',\n",
    "    color='cluster',\n",
    "    hover_name='name',    # además se ve al pasar el mouse\n",
    "    opacity=0.7\n",
    ")\n",
    "\n",
    "# un poco de estilo\n",
    "fig.update_traces(textposition='top center')\n",
    "fig.update_layout(\n",
    "    legend_title=\"Cluster\",\n",
    "    scene=dict(\n",
    "        xaxis_title='GDP',\n",
    "        yaxis_title='Inflation Rate',\n",
    "        zaxis_title='Jobless Rate'\n",
    "    )\n",
    ")\n",
    "\n",
    "fig.show()\n",
    "\n"
   ]
  }
 ],
 "metadata": {
  "kernelspec": {
   "display_name": "Python 3 (ipykernel)",
   "language": "python",
   "name": "python3"
  },
  "language_info": {
   "codemirror_mode": {
    "name": "ipython",
    "version": 3
   },
   "file_extension": ".py",
   "mimetype": "text/x-python",
   "name": "python",
   "nbconvert_exporter": "python",
   "pygments_lexer": "ipython3",
   "version": "3.13.7"
  }
 },
 "nbformat": 4,
 "nbformat_minor": 5
}
